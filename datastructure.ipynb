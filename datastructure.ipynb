{
 "cells": [
  {
   "cell_type": "code",
   "execution_count": null,
   "id": "b240d7c3-01c1-4377-b27c-8ba47c80b506",
   "metadata": {
    "jp-MarkdownHeadingCollapsed": true
   },
   "outputs": [],
   "source": [
    "    LIST\n"
   ]
  },
  {
   "cell_type": "code",
   "execution_count": null,
   "id": "28c9b5b0-f2d5-4886-9b83-29319e90ee95",
   "metadata": {},
   "outputs": [],
   "source": [
    "# Creating a list\n",
    "\n",
    "my_list = [1,2,3,4,5]\n",
    "\n",
    "#Accessing elements\n",
    "print(my_list[0])\n",
    "\n",
    "#Adding elements\n",
    "my_list.append(6)\n",
    "print(my_list)\n",
    "\n",
    "#Removing elements\n",
    "my_list.remove(5)\n",
    "print(my_list)\n",
    "\n",
    "#Slicing\n",
    "print(my_list[1:3])"
   ]
  },
  {
   "cell_type": "markdown",
   "id": "dc3376e8-f069-43a1-812f-3b59cdcf265f",
   "metadata": {},
   "source": [
    "TUPLES"
   ]
  },
  {
   "cell_type": "code",
   "execution_count": 3,
   "id": "2c50e6c8-9c15-4122-9300-477650354a1a",
   "metadata": {},
   "outputs": [
    {
     "name": "stdout",
     "output_type": "stream",
     "text": [
      "3\n",
      "(2, 3)\n"
     ]
    }
   ],
   "source": [
    "#Creating a tuple\n",
    "tuple = (1,2,3,4,5,6)\n",
    "\n",
    "#Accessing elements\n",
    "print(tuple[2])\n",
    "\n",
    "#Slicing\n",
    "print(tuple[1:3])\n"
   ]
  },
  {
   "cell_type": "code",
   "execution_count": null,
   "id": "4bcff627-bc37-4897-beff-02f6bef662f7",
   "metadata": {},
   "outputs": [],
   "source": [
    "Dictionaries\n"
   ]
  },
  {
   "cell_type": "code",
   "execution_count": 6,
   "id": "24f4a585-d86d-438f-b980-b21f599c3839",
   "metadata": {},
   "outputs": [
    {
     "name": "stdout",
     "output_type": "stream",
     "text": [
      "Alice\n",
      "{'name': 'Alice', 'age': 30, 'city': 'London', 'email': 'alice@gmail.com'}\n",
      "{'name': 'Alice', 'city': 'London', 'email': 'alice@gmail.com'}\n"
     ]
    }
   ],
   "source": [
    "# Creating a dictionary\n",
    "my_dict = {'name': 'Alice',\n",
    "           'age': 30,\n",
    "            'city':'London'}\n",
    "\n",
    "#Accessing values\n",
    "print(my_dict['name'])\n",
    "\n",
    "#Adding key-value pairs\n",
    "my_dict['email'] = 'alice@gmail.com'\n",
    "print(my_dict)\n",
    "\n",
    "#Removing key-value pairs\n",
    "del my_dict['age']\n",
    "print(my_dict)\n"
   ]
  },
  {
   "cell_type": "code",
   "execution_count": null,
   "id": "9ebaf35d-a2f2-4356-8447-14dfb6a6d711",
   "metadata": {},
   "outputs": [],
   "source": [
    "SETS\n"
   ]
  },
  {
   "cell_type": "code",
   "execution_count": 7,
   "id": "8807a755-43a6-494e-8e8e-cbecdb40ad5b",
   "metadata": {},
   "outputs": [
    {
     "name": "stdout",
     "output_type": "stream",
     "text": [
      "{1, 2, 3, 4, 5, 6, 7}\n",
      "{1, 2, 3, 4, 6, 7}\n",
      "{3, 4, 6, 7}\n",
      "{1, 2, 3, 4, 5, 6, 7, 8}\n",
      "{1, 2}\n",
      "{8, 5}\n"
     ]
    }
   ],
   "source": [
    "#Creating a set\n",
    "my_set = {1,2,3,4,5,6}\n",
    "\n",
    "#Adding elements\n",
    "my_set.add(7)\n",
    "print(my_set)\n",
    "\n",
    "#Removing elements\n",
    "my_set.remove(5)\n",
    "print(my_set)\n",
    "\n",
    "#Set operations\n",
    "set_1 = {3,4,5,6,7,8}\n",
    "print(my_set & set_1)\n",
    "print(my_set | set_1)\n",
    "print(my_set - set_1)\n",
    "print(set_1 - my_set)"
   ]
  },
  {
   "cell_type": "code",
   "execution_count": 9,
   "id": "02d8d094-ca19-410f-ac6d-ff57be91f667",
   "metadata": {},
   "outputs": [
    {
     "name": "stdout",
     "output_type": "stream",
     "text": [
      "{'name': 'Alice', 'age': 25, 'City': 'London'}\n",
      "{'Ram': (20, 45, 37), 'Sam': (45, 32, 29)}\n"
     ]
    }
   ],
   "source": [
    "# How can you convert a list of tuples into a dictionary in Python\n",
    "\n",
    "list_of_tuples = [('name','Alice'),('age',25),('City','London')]\n",
    "my_dict = dict(list_of_tuples)\n",
    "print(my_dict)\n",
    "\n",
    "students = [('Ram',(20,45,37)),('Sam',(45,32,29))]\n",
    "stu_dict = {names: grades for names, grades in students}\n",
    "print(stu_dict)"
   ]
  },
  {
   "cell_type": "code",
   "execution_count": 11,
   "id": "980d05d4-af4d-40f2-8f5e-996564764a7e",
   "metadata": {},
   "outputs": [
    {
     "name": "stdout",
     "output_type": "stream",
     "text": [
      "[6, 5, 4, 3, 2, 1]\n",
      "[6, 5, 4, 3, 2, 1]\n"
     ]
    }
   ],
   "source": [
    "# How do you reverse a list in Python?\n",
    "\n",
    "list = [1,2,3,4,5,6]\n",
    "\n",
    "#Using reverse() method\n",
    "list.reverse()\n",
    "print(list)\n",
    "\n",
    "#Using slicing\n",
    "list = [1,2,3,4,5,6]\n",
    "reversed_list = list[::-1]\n",
    "print(reversed_list)\n",
    "\n"
   ]
  },
  {
   "cell_type": "code",
   "execution_count": 15,
   "id": "3ac14509-c592-4a42-8b5d-ff8bf7cf0467",
   "metadata": {},
   "outputs": [
    {
     "name": "stdout",
     "output_type": "stream",
     "text": [
      "[9, 6, 5, 4, 2, 1]\n",
      "[1, 2, 4, 5, 6, 9]\n"
     ]
    }
   ],
   "source": [
    "# How can you sort a list in Python?\n",
    "\n",
    "list = [2,4,1,6,5,9]\n",
    "\n",
    "#Using sort() (sort in-place)\n",
    "list.sort(reverse=True)\n",
    "print(list)\n",
    "\n",
    "#Using sorted() function (returns a new sorted list)\n",
    "sorted_list = sorted(list)\n",
    "print(sorted_list)\n"
   ]
  },
  {
   "cell_type": "code",
   "execution_count": 16,
   "id": "03e656e5-e172-4f17-b129-99a195b8443d",
   "metadata": {},
   "outputs": [
    {
     "name": "stdout",
     "output_type": "stream",
     "text": [
      "(1, 2, 3, 4, 5, 6, 7)\n"
     ]
    }
   ],
   "source": [
    "#How can you concatenate two tuples in Python?\n",
    "\n",
    "tuple1 = (1,2,3,4)\n",
    "tuple2 = (5,6,7)\n",
    "concatenated_tuple = tuple1 + tuple2\n",
    "print(concatenated_tuple)\n"
   ]
  },
  {
   "cell_type": "code",
   "execution_count": 25,
   "id": "ff918571-75d8-471e-9944-1071b6bb8a2e",
   "metadata": {},
   "outputs": [
    {
     "name": "stdout",
     "output_type": "stream",
     "text": [
      "[1, 2, 3]\n",
      "[1, 3]\n"
     ]
    }
   ],
   "source": [
    " #Appending and Removing Elements: Create an empty list called my_list. Append\n",
    "#the numbers 1, 2, and 3 to my_list. Then remove the number 2 from the list \n",
    "\n",
    "my_list = []\n",
    "\n",
    "my_list.append(1)\n",
    "my_list.append(2)\n",
    "my_list.append(3)\n",
    "print(my_list)\n",
    "my_list.remove(2)\n",
    "print(my_list)\n",
    "\n"
   ]
  },
  {
   "cell_type": "code",
   "execution_count": 29,
   "id": "9f78d80b-42a9-4390-a6ac-6ca62240b301",
   "metadata": {},
   "outputs": [
    {
     "name": "stdout",
     "output_type": "stream",
     "text": [
      "cherry\n"
     ]
    }
   ],
   "source": [
    "# Accessing Elements: Create a list called fruits containing the strings \"apple\",\n",
    "#\"banana\", \"cherry\", \"date\". Print the second element of the list.\n",
    "\n",
    "fruits = [\"apple\", \"banana\", \"cherry\",\"date\"]\n",
    "print(fruits[2])\n",
    "\n"
   ]
  },
  {
   "cell_type": "code",
   "execution_count": 30,
   "id": "eb6858c9-204e-49d6-a520-0cabd85b0ea0",
   "metadata": {},
   "outputs": [
    {
     "name": "stdout",
     "output_type": "stream",
     "text": [
      "[4, 5, 6]\n"
     ]
    }
   ],
   "source": [
    "#Slicing: Create a list called numbers containing the numbers from 1 to 10. Print a\n",
    "#slice of the list containing elements from the third element to the sixth element.\n",
    "\n",
    "numbers = [1,2,3,4,5,6,7,8,9,10]\n",
    "print(numbers[3:6])"
   ]
  },
  {
   "cell_type": "code",
   "execution_count": 48,
   "id": "27d24c8c-c501-43d5-a328-70e5dace8d46",
   "metadata": {},
   "outputs": [
    {
     "name": "stdout",
     "output_type": "stream",
     "text": [
      "{1, 2, 3}\n",
      "{1, 3}\n"
     ]
    }
   ],
   "source": [
    " #Adding and Removing Elements: Create an empty set called my_set. Add the\n",
    "#numbers 1, 2, and 3 to my_set. Then remove the number 2 from the set\n",
    "\n",
    "my_set = {1}\n",
    "my_set.add(2)\n",
    "my_set.add(3)\n",
    "print(my_set)\n",
    "my_set.remove(2)\n",
    "print(my_set)\n",
    "\n"
   ]
  },
  {
   "cell_type": "code",
   "execution_count": 50,
   "id": "f2511bce-9cfa-4932-b49c-6b3c95642df0",
   "metadata": {},
   "outputs": [
    {
     "name": "stdout",
     "output_type": "stream",
     "text": [
      "{3, 4, 5}\n",
      "{1, 2, 3, 4, 5, 6, 7}\n",
      "{1, 2}\n",
      "{6, 7}\n"
     ]
    }
   ],
   "source": [
    "#Operations: Create two sets called set1 and set2, each containing a few\n",
    "#numbers. Print the union, intersection, and difference of the two sets.\n",
    "set1 = {1,2,3,4,5}\n",
    "set2 = {3,4,5,6,7}\n",
    "print(set1 & set2)\n",
    "print(set1 | set2)\n",
    "print(set1 - set2)\n",
    "print(set2 - set1)"
   ]
  },
  {
   "cell_type": "code",
   "execution_count": 17,
   "id": "d93888c9-cedd-4409-805b-50e2e86d0699",
   "metadata": {},
   "outputs": [
    {
     "name": "stdout",
     "output_type": "stream",
     "text": [
      "Alice\n",
      "30\n",
      "London\n"
     ]
    }
   ],
   "source": [
    "#Packing and Unpacking: Create a tuple called person containing information\n",
    "#about a person, such as their name, age, and city. Then unpack the tuple into individual\n",
    "#variables.\n",
    "\n",
    "person = ('Alice', 30, 'London')\n",
    "\n",
    "(name,age,city) = person\n",
    "print(name)\n",
    "print(age)\n",
    "print(city)\n",
    "\n",
    "\n",
    "\n"
   ]
  }
 ],
 "metadata": {
  "kernelspec": {
   "display_name": "Python 3 (ipykernel)",
   "language": "python",
   "name": "python3"
  },
  "language_info": {
   "codemirror_mode": {
    "name": "ipython",
    "version": 3
   },
   "file_extension": ".py",
   "mimetype": "text/x-python",
   "name": "python",
   "nbconvert_exporter": "python",
   "pygments_lexer": "ipython3",
   "version": "3.12.4"
  }
 },
 "nbformat": 4,
 "nbformat_minor": 5
}
